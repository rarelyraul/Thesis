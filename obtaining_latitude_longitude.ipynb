{
 "cells": [
  {
   "cell_type": "code",
   "execution_count": 2,
   "metadata": {},
   "outputs": [],
   "source": [
    "# import all the relevant libraries for data manipulation and visualization and analysis\n",
    "import pandas as pd\n",
    "import numpy as np\n",
    "import matplotlib.pyplot as plt\n",
    "import seaborn as sns\n",
    "import os\n",
    "import sys"
   ]
  },
  {
   "cell_type": "code",
   "execution_count": 19,
   "metadata": {},
   "outputs": [],
   "source": [
    "# transform the merged data to a pandas dataframe\n",
    "df = pd.read_csv('merged_dataset.csv')\n",
    "# keep only one company for each 'PORTFOLIO COMPANY ID', keeping the one with the most data (least NaNs in the columns)\n",
    "df = df.sort_values(by='PORTFOLIO COMPANY ID').drop_duplicates(subset='PORTFOLIO COMPANY ID', keep='first')\n",
    "df = df.reset_index(drop=True)"
   ]
  },
  {
   "cell_type": "code",
   "execution_count": 95,
   "metadata": {},
   "outputs": [],
   "source": [
    "# subset the city counts in a new dataframe\n",
    "city_counts = df['CITY'].value_counts().reset_index()"
   ]
  },
  {
   "cell_type": "code",
   "execution_count": 96,
   "metadata": {},
   "outputs": [
    {
     "data": {
      "text/plain": [
       "(1371, 2)"
      ]
     },
     "execution_count": 96,
     "metadata": {},
     "output_type": "execute_result"
    }
   ],
   "source": [
    "city_counts.shape"
   ]
  },
  {
   "cell_type": "code",
   "execution_count": 17,
   "metadata": {},
   "outputs": [
    {
     "name": "stdout",
     "output_type": "stream",
     "text": [
      "Processed 25 cities, taking a 1-second break.\n",
      "Processed 50 cities, taking a 1-second break.\n",
      "Processed 75 cities, taking a 1-second break.\n",
      "Processed 100 cities, taking a 1-second break.\n",
      "Processed 125 cities, taking a 1-second break.\n",
      "Processed 150 cities, taking a 1-second break.\n",
      "Processed 175 cities, taking a 1-second break.\n",
      "Processed 200 cities, taking a 1-second break.\n",
      "Processed 225 cities, taking a 1-second break.\n",
      "Processed 250 cities, taking a 1-second break.\n",
      "Processed 275 cities, taking a 1-second break.\n",
      "Processed 300 cities, taking a 1-second break.\n",
      "Processed 325 cities, taking a 1-second break.\n",
      "Processed 350 cities, taking a 1-second break.\n",
      "Processed 375 cities, taking a 1-second break.\n",
      "Processed 400 cities, taking a 1-second break.\n",
      "Processed 425 cities, taking a 1-second break.\n",
      "Processed 450 cities, taking a 1-second break.\n",
      "Processed 475 cities, taking a 1-second break.\n",
      "Processed 500 cities, taking a 1-second break.\n",
      "Processed 525 cities, taking a 1-second break.\n",
      "Processed 550 cities, taking a 1-second break.\n",
      "Processed 575 cities, taking a 1-second break.\n",
      "Processed 600 cities, taking a 1-second break.\n",
      "Processed 625 cities, taking a 1-second break.\n",
      "Processed 650 cities, taking a 1-second break.\n",
      "Processed 675 cities, taking a 1-second break.\n",
      "Processed 700 cities, taking a 1-second break.\n",
      "Processed 725 cities, taking a 1-second break.\n",
      "Processed 750 cities, taking a 1-second break.\n",
      "Processed 775 cities, taking a 1-second break.\n",
      "Processed 800 cities, taking a 1-second break.\n",
      "Processed 825 cities, taking a 1-second break.\n",
      "Processed 850 cities, taking a 1-second break.\n",
      "Processed 875 cities, taking a 1-second break.\n",
      "Processed 900 cities, taking a 1-second break.\n",
      "Processed 925 cities, taking a 1-second break.\n",
      "Processed 950 cities, taking a 1-second break.\n",
      "Processed 975 cities, taking a 1-second break.\n",
      "Processed 1000 cities, taking a 1-second break.\n",
      "Processed 1025 cities, taking a 1-second break.\n",
      "Processed 1050 cities, taking a 1-second break.\n",
      "Processed 1075 cities, taking a 1-second break.\n",
      "Processed 1100 cities, taking a 1-second break.\n",
      "Processed 1125 cities, taking a 1-second break.\n",
      "Processed 1150 cities, taking a 1-second break.\n",
      "Processed 1175 cities, taking a 1-second break.\n",
      "Processed 1200 cities, taking a 1-second break.\n",
      "Processed 1225 cities, taking a 1-second break.\n",
      "Processed 1250 cities, taking a 1-second break.\n",
      "Processed 1275 cities, taking a 1-second break.\n",
      "Processed 1300 cities, taking a 1-second break.\n",
      "Processed 1325 cities, taking a 1-second break.\n",
      "Processed 1350 cities, taking a 1-second break.\n",
      "               CITY  count   Latitude   Longitude\n",
      "0     San Francisco    950  37.779259 -122.419329\n",
      "1           Beijing    885  39.905714  116.391297\n",
      "2          New York    707  40.712728  -74.006015\n",
      "3             Seoul    698  37.566679  126.978291\n",
      "4            London    690  51.507446   -0.127765\n",
      "...             ...    ...        ...         ...\n",
      "1366     Cedar Park      1  30.521712  -97.827833\n",
      "1367        Leawood      1  38.966673  -94.616901\n",
      "1368        Rostock      1  54.088671   12.140021\n",
      "1369     Norristown      1  40.114879  -75.343371\n",
      "1370      Bialystok      1  53.132398   23.159168\n",
      "\n",
      "[1371 rows x 4 columns]\n"
     ]
    }
   ],
   "source": [
    "import pandas as pd\n",
    "from geopy.geocoders import Nominatim\n",
    "import time\n",
    "\n",
    "# Load the Excel file\n",
    "df = pd.read_excel('city_counts.xlsx')\n",
    "\n",
    "\n",
    "# Initialize Nominatim API\n",
    "geolocator = Nominatim(user_agent=\"geoapiExercises\")\n",
    "\n",
    "def get_lat_long(city):\n",
    "    try:\n",
    "        location = geolocator.geocode(city)\n",
    "        return location.latitude, location.longitude\n",
    "    except:\n",
    "        return None, None\n",
    "\n",
    "def get_lat_long_for_cities(cities):\n",
    "    results = []\n",
    "    for i, city in enumerate(cities):\n",
    "        lat, long = get_lat_long(city)\n",
    "        results.append((lat, long))\n",
    "        \n",
    "        # Check if we need to take a break\n",
    "        if (i + 1) % 25 == 0:\n",
    "            print(f\"Processed {i + 1} cities, taking a 1-second break.\")\n",
    "            time.sleep(1)\n",
    "    \n",
    "    return results\n",
    "\n",
    "# Apply the function to get latitude and longitude\n",
    "lat_long_results = get_lat_long_for_cities(df['CITY'])\n",
    "df['Latitude'], df['Longitude'] = zip(*lat_long_results)\n",
    "\n",
    "print(df)\n"
   ]
  },
  {
   "cell_type": "code",
   "execution_count": 19,
   "metadata": {},
   "outputs": [],
   "source": [
    "# save the df as an excel\n",
    "df.to_excel('city_counts.xlsx', index=False)"
   ]
  },
  {
   "cell_type": "code",
   "execution_count": 74,
   "metadata": {},
   "outputs": [
    {
     "data": {
      "text/plain": [
       "Index(['PORTFOLIO COMPANY ID', 'COMPANY NAME', 'REGION', 'ADDRESS', 'CITY',\n",
       "       'STATE', 'ZIPCODE', 'COUNTRY', 'WEBSITE', 'EMAIL', 'TEL', 'FAX',\n",
       "       'FOUNDED YEAR', 'PRIMARY INDUSTRY', 'SUB INDUSTRIES', 'VERTICALS',\n",
       "       'COMPANY STAGE', 'LATEST ROUND DIRECTION', 'INVESTORS',\n",
       "       'TOTAL AMOUNT RAISED (USD MN)', 'EBITDA (USD MN)',\n",
       "       'OPERATING INCOME (USD MN)', 'NET INCOME (USD MN)', 'REVENUE (USD MN)',\n",
       "       '% REVENUE GROWTH YOY', '% OPERATING MARGIN', '% EBTIDA MARGIN',\n",
       "       '% NET MARGIN', 'FUNDING ROUNDS/NUMBER OF DEALS',\n",
       "       'MOST RECENT DEAL TYPE/STAGE', 'MOST RECENT DEAL DATE',\n",
       "       'MOST RECENT DEAL SIZE (USD MN)',\n",
       "       'MOST RECENT DEAL SIZE EQUITY (USD MN)',\n",
       "       'MOST RECENT DEAL SIZE DEBT (USD MN)', 'EMPLOYEE COUNT',\n",
       "       'INVESTED FUNDS (ESTIMATED**)', 'ACTIONABILITY SIGNAL', 'FUNDING TYPE',\n",
       "       'OWNERSHIP TYPE', 'COMPANY DESCRIPTION',\n",
       "       'POST-MONEY VALUATION (USD MN - ESTIMATED**)',\n",
       "       'POST-MONEY VALUATION (USD MN)'],\n",
       "      dtype='object')"
      ]
     },
     "execution_count": 74,
     "metadata": {},
     "output_type": "execute_result"
    }
   ],
   "source": [
    "df.columns"
   ]
  },
  {
   "cell_type": "code",
   "execution_count": 20,
   "metadata": {},
   "outputs": [],
   "source": [
    "city_counts = pd.read_excel('city_counts.xlsx')"
   ]
  },
  {
   "cell_type": "code",
   "execution_count": 21,
   "metadata": {},
   "outputs": [
    {
     "name": "stdout",
     "output_type": "stream",
     "text": [
      "Percentage of cities not found: 1.24%\n",
      "Count of cities not found: 17\n",
      "               CITY  count  Latitude  Longitude\n",
      "275     Petah Tikva      6       NaN        NaN\n",
      "276           Kyoto      6       NaN        NaN\n",
      "277   Newport Beach      6       NaN        NaN\n",
      "278       Las Vegas      6       NaN        NaN\n",
      "322      D�sseldorf      5       NaN        NaN\n",
      "334     Saarbr�cken      4       NaN        NaN\n",
      "342         M�nchen      4       NaN        NaN\n",
      "704         M�nster      2       NaN        NaN\n",
      "720   Kuroishi City      1       NaN        NaN\n",
      "743         Tornoto      1       NaN        NaN\n",
      "757        Crici�ma      1       NaN        NaN\n",
      "810        H�rsholm      1       NaN        NaN\n",
      "833       Toulhouse      1       NaN        NaN\n",
      "948         Rijswij      1       NaN        NaN\n",
      "981       Reykjav�k      1       NaN        NaN\n",
      "1007        RJ Best      1       NaN        NaN\n",
      "1217   Saint P�lten      1       NaN        NaN\n"
     ]
    }
   ],
   "source": [
    "# print the percentage of cities that were not found\n",
    "print(f\"Percentage of cities not found: {city_counts['Latitude'].isnull().mean() * 100:.2f}%\")\n",
    "\n",
    "# print the count of cities not found\n",
    "print(f\"Count of cities not found: {city_counts['Latitude'].isnull().sum()}\")\n",
    "\n",
    "# subset the cities that were not found\n",
    "not_found = city_counts[city_counts['Latitude'].isnull()]\n",
    "print(not_found)"
   ]
  },
  {
   "cell_type": "markdown",
   "metadata": {},
   "source": [
    "There seem to be some cities that were not found. This might be because there are typos, or the special letter characters in the case of the German cities. Since those cities and not that many, I will input latitude and longitude of these cities manually."
   ]
  },
  {
   "cell_type": "code",
   "execution_count": 22,
   "metadata": {},
   "outputs": [
    {
     "name": "stdout",
     "output_type": "stream",
     "text": [
      "       CITY  count   Latitude  Longitude\n",
      "15  Toronto    176  43.653482 -79.383935\n"
     ]
    }
   ],
   "source": [
    "# print the row where CITY = toronto\n",
    "print(city_counts[city_counts['CITY'] == 'Toronto'])\n",
    "\n",
    "# add +1 to the count column of toronto\n",
    "city_counts.loc[city_counts['CITY'] == 'Toronto', 'count'] += 1"
   ]
  },
  {
   "cell_type": "code",
   "execution_count": 23,
   "metadata": {},
   "outputs": [],
   "source": [
    "# read the cities_coordinates excel\n",
    "cities_coordinates = pd.read_excel('cities_coordinates.xlsx')\n",
    "\n",
    "# drop the Toronto row from City in cities_coordinates\n",
    "cities_coordinates = cities_coordinates[cities_coordinates['City'] != 'Toronto']"
   ]
  },
  {
   "cell_type": "code",
   "execution_count": 24,
   "metadata": {},
   "outputs": [],
   "source": [
    "# add a new column between after 'City' named 'count', set value 6 for Petah Tikva, Kyota, Newport Beach, Las Vegas. Set 5 for Dusseldorf,\n",
    "# Set 4 for Saarbrucken and Munchen, 2 for Munster and 1 for the rest.\n",
    "cities_coordinates['count'] = 1\n",
    "cities_coordinates.loc[cities_coordinates['City'].isin(['Petah Tikva', 'Kyoto', 'Newport Beach', 'Las Vegas']), 'count'] = 6\n",
    "cities_coordinates.loc[cities_coordinates['City'] == 'Dusseldorf', 'count'] = 5\n",
    "cities_coordinates.loc[cities_coordinates['City'].isin(['Saarbrucken', 'Munchen']), 'count'] = 4\n",
    "cities_coordinates.loc[cities_coordinates['City'] == 'Munster', 'count'] = 2\n"
   ]
  },
  {
   "cell_type": "code",
   "execution_count": 25,
   "metadata": {},
   "outputs": [
    {
     "data": {
      "text/html": [
       "<div>\n",
       "<style scoped>\n",
       "    .dataframe tbody tr th:only-of-type {\n",
       "        vertical-align: middle;\n",
       "    }\n",
       "\n",
       "    .dataframe tbody tr th {\n",
       "        vertical-align: top;\n",
       "    }\n",
       "\n",
       "    .dataframe thead th {\n",
       "        text-align: right;\n",
       "    }\n",
       "</style>\n",
       "<table border=\"1\" class=\"dataframe\">\n",
       "  <thead>\n",
       "    <tr style=\"text-align: right;\">\n",
       "      <th></th>\n",
       "      <th>City</th>\n",
       "      <th>Latitude</th>\n",
       "      <th>Longitude</th>\n",
       "      <th>count</th>\n",
       "    </tr>\n",
       "  </thead>\n",
       "  <tbody>\n",
       "    <tr>\n",
       "      <th>0</th>\n",
       "      <td>Petah Tikva</td>\n",
       "      <td>32.0871</td>\n",
       "      <td>34.8875</td>\n",
       "      <td>6</td>\n",
       "    </tr>\n",
       "    <tr>\n",
       "      <th>1</th>\n",
       "      <td>Kyoto</td>\n",
       "      <td>35.0116</td>\n",
       "      <td>135.7681</td>\n",
       "      <td>6</td>\n",
       "    </tr>\n",
       "    <tr>\n",
       "      <th>2</th>\n",
       "      <td>Newport Beach</td>\n",
       "      <td>33.6189</td>\n",
       "      <td>-117.9298</td>\n",
       "      <td>6</td>\n",
       "    </tr>\n",
       "    <tr>\n",
       "      <th>3</th>\n",
       "      <td>Las Vegas</td>\n",
       "      <td>36.1699</td>\n",
       "      <td>-115.1398</td>\n",
       "      <td>6</td>\n",
       "    </tr>\n",
       "    <tr>\n",
       "      <th>4</th>\n",
       "      <td>Düsseldorf</td>\n",
       "      <td>51.2277</td>\n",
       "      <td>6.7735</td>\n",
       "      <td>1</td>\n",
       "    </tr>\n",
       "    <tr>\n",
       "      <th>5</th>\n",
       "      <td>Saarbrücken</td>\n",
       "      <td>49.2402</td>\n",
       "      <td>6.9969</td>\n",
       "      <td>1</td>\n",
       "    </tr>\n",
       "    <tr>\n",
       "      <th>6</th>\n",
       "      <td>München</td>\n",
       "      <td>48.1351</td>\n",
       "      <td>11.5820</td>\n",
       "      <td>1</td>\n",
       "    </tr>\n",
       "    <tr>\n",
       "      <th>7</th>\n",
       "      <td>Münster</td>\n",
       "      <td>51.9607</td>\n",
       "      <td>7.6261</td>\n",
       "      <td>1</td>\n",
       "    </tr>\n",
       "    <tr>\n",
       "      <th>8</th>\n",
       "      <td>Kuroishi City</td>\n",
       "      <td>40.6442</td>\n",
       "      <td>140.5990</td>\n",
       "      <td>1</td>\n",
       "    </tr>\n",
       "    <tr>\n",
       "      <th>10</th>\n",
       "      <td>Criciúma</td>\n",
       "      <td>-28.6775</td>\n",
       "      <td>-49.3699</td>\n",
       "      <td>1</td>\n",
       "    </tr>\n",
       "    <tr>\n",
       "      <th>11</th>\n",
       "      <td>Hørsholm</td>\n",
       "      <td>55.8800</td>\n",
       "      <td>12.5014</td>\n",
       "      <td>1</td>\n",
       "    </tr>\n",
       "    <tr>\n",
       "      <th>12</th>\n",
       "      <td>Toulouse</td>\n",
       "      <td>43.6045</td>\n",
       "      <td>1.4442</td>\n",
       "      <td>1</td>\n",
       "    </tr>\n",
       "    <tr>\n",
       "      <th>13</th>\n",
       "      <td>Rijswijk</td>\n",
       "      <td>52.0364</td>\n",
       "      <td>4.3250</td>\n",
       "      <td>1</td>\n",
       "    </tr>\n",
       "    <tr>\n",
       "      <th>14</th>\n",
       "      <td>Reykjavík</td>\n",
       "      <td>64.1355</td>\n",
       "      <td>-21.8954</td>\n",
       "      <td>1</td>\n",
       "    </tr>\n",
       "    <tr>\n",
       "      <th>15</th>\n",
       "      <td>RJ Best</td>\n",
       "      <td>-22.9068</td>\n",
       "      <td>-43.1729</td>\n",
       "      <td>1</td>\n",
       "    </tr>\n",
       "    <tr>\n",
       "      <th>16</th>\n",
       "      <td>Saint Pölten</td>\n",
       "      <td>48.2035</td>\n",
       "      <td>15.6267</td>\n",
       "      <td>1</td>\n",
       "    </tr>\n",
       "  </tbody>\n",
       "</table>\n",
       "</div>"
      ],
      "text/plain": [
       "             City  Latitude  Longitude  count\n",
       "0     Petah Tikva   32.0871    34.8875      6\n",
       "1           Kyoto   35.0116   135.7681      6\n",
       "2   Newport Beach   33.6189  -117.9298      6\n",
       "3       Las Vegas   36.1699  -115.1398      6\n",
       "4      Düsseldorf   51.2277     6.7735      1\n",
       "5     Saarbrücken   49.2402     6.9969      1\n",
       "6         München   48.1351    11.5820      1\n",
       "7         Münster   51.9607     7.6261      1\n",
       "8   Kuroishi City   40.6442   140.5990      1\n",
       "10       Criciúma  -28.6775   -49.3699      1\n",
       "11       Hørsholm   55.8800    12.5014      1\n",
       "12       Toulouse   43.6045     1.4442      1\n",
       "13       Rijswijk   52.0364     4.3250      1\n",
       "14      Reykjavík   64.1355   -21.8954      1\n",
       "15        RJ Best  -22.9068   -43.1729      1\n",
       "16   Saint Pölten   48.2035    15.6267      1"
      ]
     },
     "execution_count": 25,
     "metadata": {},
     "output_type": "execute_result"
    }
   ],
   "source": [
    "cities_coordinates"
   ]
  },
  {
   "cell_type": "code",
   "execution_count": 26,
   "metadata": {},
   "outputs": [],
   "source": [
    "# set the location of the count column to be between 'City' and 'Latitude'\n",
    "cities_coordinates = cities_coordinates[['City', 'count', 'Latitude', 'Longitude']]\n",
    "\n",
    "# change the name of the City column to CITY\n",
    "cities_coordinates.columns = ['CITY', 'count', 'Latitude', 'Longitude']"
   ]
  },
  {
   "cell_type": "code",
   "execution_count": 27,
   "metadata": {},
   "outputs": [],
   "source": [
    "city_counts = pd.concat([city_counts, cities_coordinates], ignore_index=True)\n"
   ]
  },
  {
   "cell_type": "code",
   "execution_count": 29,
   "metadata": {},
   "outputs": [],
   "source": [
    "# save the city_counts as an excel\n",
    "city_counts.to_excel('city_counts.xlsx', index=False)"
   ]
  },
  {
   "cell_type": "code",
   "execution_count": 13,
   "metadata": {},
   "outputs": [],
   "source": [
    "# read merged_dataset.csv\n",
    "df = pd.read_csv('merged_dataset.csv')"
   ]
  },
  {
   "cell_type": "code",
   "execution_count": 14,
   "metadata": {},
   "outputs": [
    {
     "data": {
      "text/plain": [
       "Index(['PORTFOLIO COMPANY ID', 'COMPANY NAME', 'REGION', 'ADDRESS', 'CITY',\n",
       "       'STATE', 'ZIPCODE', 'COUNTRY', 'WEBSITE', 'EMAIL', 'TEL', 'FAX',\n",
       "       'FOUNDED YEAR', 'PRIMARY INDUSTRY', 'SUB INDUSTRIES', 'VERTICALS',\n",
       "       'COMPANY STAGE', 'LATEST ROUND DIRECTION', 'INVESTORS',\n",
       "       'TOTAL AMOUNT RAISED (USD MN)', 'EBITDA (USD MN)',\n",
       "       'OPERATING INCOME (USD MN)', 'NET INCOME (USD MN)', 'REVENUE (USD MN)',\n",
       "       '% REVENUE GROWTH YOY', '% OPERATING MARGIN', '% EBTIDA MARGIN',\n",
       "       '% NET MARGIN', 'FUNDING ROUNDS/NUMBER OF DEALS',\n",
       "       'MOST RECENT DEAL TYPE/STAGE', 'MOST RECENT DEAL DATE',\n",
       "       'MOST RECENT DEAL SIZE (USD MN)',\n",
       "       'MOST RECENT DEAL SIZE EQUITY (USD MN)',\n",
       "       'MOST RECENT DEAL SIZE DEBT (USD MN)', 'EMPLOYEE COUNT',\n",
       "       'INVESTED FUNDS (ESTIMATED**)', 'ACTIONABILITY SIGNAL', 'FUNDING TYPE',\n",
       "       'OWNERSHIP TYPE', 'COMPANY DESCRIPTION',\n",
       "       'POST-MONEY VALUATION (USD MN - ESTIMATED**)',\n",
       "       'POST-MONEY VALUATION (USD MN)'],\n",
       "      dtype='object')"
      ]
     },
     "execution_count": 14,
     "metadata": {},
     "output_type": "execute_result"
    }
   ],
   "source": [
    "df.columns"
   ]
  },
  {
   "cell_type": "code",
   "execution_count": 15,
   "metadata": {},
   "outputs": [
    {
     "name": "stdout",
     "output_type": "stream",
     "text": [
      "REGION\n",
      "North America                37.185364\n",
      "Asia                         33.470044\n",
      "Europe                       22.476880\n",
      "Middle East                   3.313229\n",
      "Latin America & Caribbean     1.664656\n",
      "Australasia                   1.318858\n",
      "Africa                        0.570969\n",
      "Name: proportion, dtype: float64\n"
     ]
    }
   ],
   "source": [
    "# print the share of REGION in the dataset for startups that have FOUNDED YEAR between 2008 and 2016 as a percentage\n",
    "print(df[(df['FOUNDED YEAR'] >= 2016)]['REGION'].value_counts(normalize=True) * 100)\n",
    "\n"
   ]
  }
 ],
 "metadata": {
  "kernelspec": {
   "display_name": "Python 3",
   "language": "python",
   "name": "python3"
  },
  "language_info": {
   "codemirror_mode": {
    "name": "ipython",
    "version": 3
   },
   "file_extension": ".py",
   "mimetype": "text/x-python",
   "name": "python",
   "nbconvert_exporter": "python",
   "pygments_lexer": "ipython3",
   "version": "3.12.1"
  }
 },
 "nbformat": 4,
 "nbformat_minor": 2
}

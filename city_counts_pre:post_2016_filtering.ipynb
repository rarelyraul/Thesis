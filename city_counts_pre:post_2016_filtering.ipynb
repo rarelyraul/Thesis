{
 "cells": [
  {
   "cell_type": "code",
   "execution_count": 16,
   "metadata": {},
   "outputs": [],
   "source": [
    "import pandas as pd\n",
    "import numpy as np\n",
    "import matplotlib.pyplot as plt\n",
    "import matplotlib.dates as mdates"
   ]
  },
  {
   "cell_type": "code",
   "execution_count": 17,
   "metadata": {},
   "outputs": [],
   "source": [
    "\n",
    "df = pd.read_csv('merged_dataset.csv')\n",
    "# keep only one company for each 'PORTFOLIO COMPANY ID', keeping the one with the most data (least NaNs in the columns)\n",
    "df = df.sort_values(by='PORTFOLIO COMPANY ID').drop_duplicates(subset='PORTFOLIO COMPANY ID', keep='first')\n",
    "df = df.reset_index(drop=True)\n",
    "\n",
    "# limit the data set to include only the rows where founded year is less than 2016 and more than 2000\n",
    "df = df[(df['FOUNDED YEAR'] < 2016) & (df['FOUNDED YEAR'] >= 2008)]\n",
    "\n",
    "# subset the city counts in a new dataframe\n",
    "city_counts = df['CITY'].value_counts().reset_index()\n",
    "\n",
    "# read the cities_coordinates.xlsx file\n",
    "cities = pd.read_excel('city_counts.xlsx')\n",
    "\n",
    "# Update the count values in cities with those from city_counts, matching on CITY\n",
    "cities = cities.merge(city_counts[['CITY', 'count']], on='CITY', how='left', suffixes=('', '_new'))\n",
    "cities['count'] = cities['count_new'].combine_first(cities['count'])\n",
    "cities = cities.drop(columns='count_new')"
   ]
  },
  {
   "cell_type": "code",
   "execution_count": 18,
   "metadata": {},
   "outputs": [
    {
     "data": {
      "text/html": [
       "<div>\n",
       "<style scoped>\n",
       "    .dataframe tbody tr th:only-of-type {\n",
       "        vertical-align: middle;\n",
       "    }\n",
       "\n",
       "    .dataframe tbody tr th {\n",
       "        vertical-align: top;\n",
       "    }\n",
       "\n",
       "    .dataframe thead th {\n",
       "        text-align: right;\n",
       "    }\n",
       "</style>\n",
       "<table border=\"1\" class=\"dataframe\">\n",
       "  <thead>\n",
       "    <tr style=\"text-align: right;\">\n",
       "      <th></th>\n",
       "      <th>CITY</th>\n",
       "      <th>count</th>\n",
       "      <th>Latitude</th>\n",
       "      <th>Longitude</th>\n",
       "    </tr>\n",
       "  </thead>\n",
       "  <tbody>\n",
       "    <tr>\n",
       "      <th>0</th>\n",
       "      <td>San Francisco</td>\n",
       "      <td>279.0</td>\n",
       "      <td>37.779259</td>\n",
       "      <td>-122.419329</td>\n",
       "    </tr>\n",
       "    <tr>\n",
       "      <th>1</th>\n",
       "      <td>Beijing</td>\n",
       "      <td>306.0</td>\n",
       "      <td>39.905714</td>\n",
       "      <td>116.391297</td>\n",
       "    </tr>\n",
       "    <tr>\n",
       "      <th>2</th>\n",
       "      <td>New York</td>\n",
       "      <td>185.0</td>\n",
       "      <td>40.712728</td>\n",
       "      <td>-74.006015</td>\n",
       "    </tr>\n",
       "    <tr>\n",
       "      <th>3</th>\n",
       "      <td>Seoul</td>\n",
       "      <td>117.0</td>\n",
       "      <td>37.566679</td>\n",
       "      <td>126.978291</td>\n",
       "    </tr>\n",
       "    <tr>\n",
       "      <th>4</th>\n",
       "      <td>London</td>\n",
       "      <td>189.0</td>\n",
       "      <td>51.507446</td>\n",
       "      <td>-0.127765</td>\n",
       "    </tr>\n",
       "  </tbody>\n",
       "</table>\n",
       "</div>"
      ],
      "text/plain": [
       "            CITY  count   Latitude   Longitude\n",
       "0  San Francisco  279.0  37.779259 -122.419329\n",
       "1        Beijing  306.0  39.905714  116.391297\n",
       "2       New York  185.0  40.712728  -74.006015\n",
       "3          Seoul  117.0  37.566679  126.978291\n",
       "4         London  189.0  51.507446   -0.127765"
      ]
     },
     "execution_count": 18,
     "metadata": {},
     "output_type": "execute_result"
    }
   ],
   "source": [
    "cities.head()"
   ]
  },
  {
   "cell_type": "code",
   "execution_count": 19,
   "metadata": {},
   "outputs": [],
   "source": [
    "# export the cities dataframe to a new excel file\n",
    "cities.to_excel('city_counts_before_2016.xlsx', index=False)"
   ]
  },
  {
   "cell_type": "code",
   "execution_count": null,
   "metadata": {},
   "outputs": [],
   "source": []
  }
 ],
 "metadata": {
  "kernelspec": {
   "display_name": "Python 3",
   "language": "python",
   "name": "python3"
  },
  "language_info": {
   "codemirror_mode": {
    "name": "ipython",
    "version": 3
   },
   "file_extension": ".py",
   "mimetype": "text/x-python",
   "name": "python",
   "nbconvert_exporter": "python",
   "pygments_lexer": "ipython3",
   "version": "3.12.1"
  }
 },
 "nbformat": 4,
 "nbformat_minor": 2
}
